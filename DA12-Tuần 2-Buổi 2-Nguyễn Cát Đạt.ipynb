{
 "cells": [
  {
   "cell_type": "markdown",
   "id": "a92c0623",
   "metadata": {},
   "source": [
    "### 1. Dữ liệu giá cổ phiếu:\n",
    " Viết vòng lặp xác định nếu giá cp lên 7% so với ngày hôm trước thì bán, xuống 5% so với ngày hôm trước thì mua gia_theo_ngay = [10.1, 9.5, 10.7, 10.8, 10.6, 10.0, 10.2, 9.5]"
   ]
  },
  {
   "cell_type": "code",
   "execution_count": 51,
   "id": "3243c7d6",
   "metadata": {},
   "outputs": [
    {
     "name": "stdout",
     "output_type": "stream",
     "text": [
      "10.1 9.5 Mua.\n",
      "9.5 10.7 Bán.\n",
      "10.6 10.0 Mua.\n",
      "10.2 9.5 Mua.\n"
     ]
    }
   ],
   "source": [
    "gia_theo_ngay = [10.1, 9.5, 10.7, 10.8, 10.6, 10.0, 10.2, 9.5]\n",
    "\n",
    "for i in range(len(gia_theo_ngay)-1):\n",
    "    if gia_theo_ngay[i] + (0.07 * gia_theo_ngay[i]) < gia_theo_ngay[i+1]:\n",
    "        print(gia_theo_ngay[i], gia_theo_ngay[i+1], \"Bán.\")\n",
    "    if gia_theo_ngay[i] - (0.05 * gia_theo_ngay[i]) > gia_theo_ngay[i+1]:\n",
    "        print(gia_theo_ngay[i], gia_theo_ngay[i+1], \"Mua.\")"
   ]
  },
  {
   "cell_type": "markdown",
   "id": "8108b7c6",
   "metadata": {},
   "source": [
    "### 2. Viết chương trình kiểm tra xem mỗi số trong một list có là số nguyên tố\n",
    "(cần viết hàm kiểm tra số NT riêng, và lưu ý trường hợp các số 1, 2, 3):"
   ]
  },
  {
   "cell_type": "code",
   "execution_count": 49,
   "id": "74ddaaf7",
   "metadata": {},
   "outputs": [],
   "source": [
    "def KT_Nguyen_To(number):\n",
    "    if number < 2:\n",
    "        return False\n",
    "    for i in range(2, int(number ** 0.5) + 1):\n",
    "        if number % i == 0:\n",
    "            return False\n",
    "    return True"
   ]
  },
  {
   "cell_type": "code",
   "execution_count": 50,
   "id": "d6c6ed0f",
   "metadata": {},
   "outputs": [
    {
     "name": "stdout",
     "output_type": "stream",
     "text": [
      "1 không phải là số nguyên tố, nó là một số đặc biệt\n",
      "3 là số nguyên tố.\n",
      "8 không phải là số nguyên tố, vì nó chia hết cho các số: [2, 4].\n",
      "2 là số nguyên tố.\n",
      "6 không phải là số nguyên tố, vì nó chia hết cho các số: [2, 3].\n",
      "9 không phải là số nguyên tố, vì nó chia hết cho các số: [3].\n",
      "7 là số nguyên tố.\n",
      "100 không phải là số nguyên tố, vì nó chia hết cho các số: [2, 4, 5, 10, 20, 25, 50].\n",
      "50 không phải là số nguyên tố, vì nó chia hết cho các số: [2, 5, 10, 25].\n",
      "27 không phải là số nguyên tố, vì nó chia hết cho các số: [3, 9].\n"
     ]
    }
   ],
   "source": [
    "danh_sach = [1, 3, 8, 2, 6, 9, 7, 100, 50, 27]\n",
    "for item in danh_sach:\n",
    "    if item == 1:\n",
    "        print(\"1 không phải là số nguyên tố, nó là một số đặc biệt\")\n",
    "    elif KT_Nguyen_To(item):\n",
    "        print(f\"{item} là số nguyên tố.\")\n",
    "    else:\n",
    "        arr = []\n",
    "        for i in range(2, int(item ** 0.5) + 1):\n",
    "            if item % i == 0:\n",
    "                arr.append(i)\n",
    "                arr.append(item // i)\n",
    "        arr = sorted(set(arr))\n",
    "        print(f\"{item} không phải là số nguyên tố, vì nó chia hết cho các số: {arr}.\")"
   ]
  },
  {
   "cell_type": "markdown",
   "id": "5875c326",
   "metadata": {},
   "source": [
    "### 3. Viết hàm tính tiền bảo hiểm và thuế thu nhập cá nhân cho các nhân viên:\n",
    "    ● Input: lương, phụ cấp, người phụ thuộc\n",
    "    ● Output: Bảo Hiểm Bắt Buộc, PIT\n",
    "(Lưu ý: đây là bài tập để rèn luyện lập trình, không nhất thiết phải \n",
    "theo đúng các quy định cụ thể của việc tính BH/thuế)"
   ]
  },
  {
   "cell_type": "code",
   "execution_count": 46,
   "id": "d124c10d",
   "metadata": {},
   "outputs": [],
   "source": [
    "def Tinh_Thu_Nhap_Tinh_Thue(luong, phu_cap, nguoi_phu_thuoc = 0):\n",
    "    tong_tnct = luong + phu_cap\n",
    "    nguoi_phu_thuoc *= 4400000\n",
    "#8% bhxh\n",
    "    if luong <= 36000000:\n",
    "        bhxh = luong * 0.08\n",
    "    else:\n",
    "        bhxh = 36000000 * 0.08\n",
    "#1.5% bhyt\n",
    "    if luong <= 36000000:\n",
    "        bhyt = luong * 0.015\n",
    "    else:\n",
    "        bhyt = 36000000 * 0.015\n",
    "#1% bhtn\n",
    "    if luong <= 93600000:\n",
    "        bhtn = luong * 0.01\n",
    "    else:\n",
    "        bhtn = 93600000 * 0.01\n",
    "    \n",
    "    bh_bat_buoc = int(bhxh + bhyt + bhtn)\n",
    "    thu_nhap_tinh_thue = int(tong_tnct - nguoi_phu_thuoc - bh_bat_buoc - 11000000)\n",
    "    print(\"Số tiền đóng Bảo Hiểm Bắt Buộc:\", format(bh_bat_buoc,\",\"))\n",
    "    return thu_nhap_tinh_thue"
   ]
  },
  {
   "cell_type": "code",
   "execution_count": 47,
   "id": "a72d7ad1",
   "metadata": {},
   "outputs": [],
   "source": [
    "def PIT(thu_nhap_tinh_thue):\n",
    "    if thu_nhap_tinh_thue <= 0:\n",
    "        thue = 0\n",
    "    elif thu_nhap_tinh_thue <= 5000000:\n",
    "        thue = 0.05 * thu_nhap_tinh_thue\n",
    "    elif thu_nhap_tinh_thue <= 10000000:\n",
    "        thue = 0.1 * thu_nhap_tinh_thue - 250000\n",
    "    elif thu_nhap_tinh_thue <= 18000000:\n",
    "        thue = 0.15 * thu_nhap_tinh_thue - 750000\n",
    "    elif thu_nhap_tinh_thue <= 32000000:\n",
    "        thue = 0.2 * thu_nhap_tinh_thue - 1650000\n",
    "    elif thu_nhap_tinh_thue <= 52000000:\n",
    "        thue = 0.25 * thu_nhap_tinh_thue - 3250000\n",
    "    elif thu_nhap_tinh_thue <= 80000000:\n",
    "        thue = 0.3 * thu_nhap_tinh_thue - 5850000\n",
    "    else:\n",
    "        thue = 0.35 * thu_nhap_tinh_thue - 9850000\n",
    "    return thue"
   ]
  },
  {
   "cell_type": "code",
   "execution_count": 48,
   "id": "d9749195",
   "metadata": {},
   "outputs": [
    {
     "name": "stdout",
     "output_type": "stream",
     "text": [
      "Số tiền đóng Bảo Hiểm Bắt Buộc: 3,920,000\n",
      "Thuế Thu Nhập Cá Nhân (PIT): 4,686,000\n"
     ]
    }
   ],
   "source": [
    "TNCN = int(PIT(Tinh_Thu_Nhap_Tinh_Thue(50000000, 1000000, 1)))\n",
    "print(\"Thuế Thu Nhập Cá Nhân (PIT):\",format(TNCN,\",\"))"
   ]
  }
 ],
 "metadata": {
  "kernelspec": {
   "display_name": "Python 3 (ipykernel)",
   "language": "python",
   "name": "python3"
  },
  "language_info": {
   "codemirror_mode": {
    "name": "ipython",
    "version": 3
   },
   "file_extension": ".py",
   "mimetype": "text/x-python",
   "name": "python",
   "nbconvert_exporter": "python",
   "pygments_lexer": "ipython3",
   "version": "3.11.5"
  }
 },
 "nbformat": 4,
 "nbformat_minor": 5
}
